{
 "cells": [
  {
   "cell_type": "code",
   "execution_count": 23,
   "id": "30d3c293-0d57-4e46-a10c-88b272bb9003",
   "metadata": {},
   "outputs": [
    {
     "data": {
      "text/plain": [
       "200"
      ]
     },
     "execution_count": 23,
     "metadata": {},
     "output_type": "execute_result"
    }
   ],
   "source": [
    "#TOPIC: Python Basics Variable\n",
    "#Declare two variables, `x` and `y`, and assign them integer values.\n",
    "#Swap the values of these variables without using any temporary variable.\n",
    "x=10\n",
    "y=20\n",
    "x=x*y\n",
    "x"
   ]
  },
  {
   "cell_type": "code",
   "execution_count": 30,
   "id": "02d2d39b-26de-414d-8970-983058698e9f",
   "metadata": {},
   "outputs": [
    {
     "data": {
      "text/plain": [
       "10.0"
      ]
     },
     "execution_count": 30,
     "metadata": {},
     "output_type": "execute_result"
    }
   ],
   "source": [
    "y=x/y\n",
    "y"
   ]
  },
  {
   "cell_type": "code",
   "execution_count": 31,
   "id": "ea385632-bfad-42c2-8d9e-07313a22b6d4",
   "metadata": {},
   "outputs": [
    {
     "data": {
      "text/plain": [
       "20.0"
      ]
     },
     "execution_count": 31,
     "metadata": {},
     "output_type": "execute_result"
    }
   ],
   "source": [
    "x=x/y\n",
    "x"
   ]
  },
  {
   "cell_type": "code",
   "execution_count": 32,
   "id": "6894ab59-0d9f-4385-a0dd-ef52d4a64a0e",
   "metadata": {},
   "outputs": [
    {
     "name": "stdout",
     "output_type": "stream",
     "text": [
      "20.0 10.0\n"
     ]
    }
   ],
   "source": [
    "print(x,y)"
   ]
  },
  {
   "cell_type": "code",
   "execution_count": 11,
   "id": "ea2319d7-178b-42e1-b4ea-daad955ca55b",
   "metadata": {},
   "outputs": [
    {
     "name": "stdout",
     "output_type": "stream",
     "text": [
      "150.0\n"
     ]
    }
   ],
   "source": [
    "#Create a program that calculates the area of a rectangle. Take the length and width as inputs from the user and store them in variables.\n",
    "#Calculate and display the area.\n",
    "\n",
    "length= float(15)\n",
    "width= float(10)\n",
    "area=(length*width)\n",
    "print(area)"
   ]
  },
  {
   "cell_type": "code",
   "execution_count": null,
   "id": "d456001b-f44c-46ac-8496-e9663b13ff38",
   "metadata": {},
   "outputs": [],
   "source": [
    "#Write a Python program that converts temperature from Celsius to Fahrenheit. \n",
    "#Take the temperature in Celsius as input, store it in a variable, convert it to Fahrenheit, and display the result."
   ]
  },
  {
   "cell_type": "code",
   "execution_count": 33,
   "id": "a8c27bc3-e69a-40c5-8964-934b13842d40",
   "metadata": {},
   "outputs": [
    {
     "name": "stdin",
     "output_type": "stream",
     "text": [
      "Enter temp in C: 25\n"
     ]
    },
    {
     "data": {
      "text/plain": [
       "77.0"
      ]
     },
     "execution_count": 33,
     "metadata": {},
     "output_type": "execute_result"
    }
   ],
   "source": [
    "celsius = float(input(\"Enter temp in C:\"))\n",
    "fahrenheit = (celsius*9/5)+32\n",
    "fahrenheit\n",
    "                "
   ]
  },
  {
   "cell_type": "code",
   "execution_count": 40,
   "id": "e00afd95-6676-49a0-a377-fb251fa3b401",
   "metadata": {},
   "outputs": [
    {
     "name": "stdout",
     "output_type": "stream",
     "text": [
      "25.0 Celsius is equal to 77.0 Fahrenheit\n"
     ]
    }
   ],
   "source": [
    "print(f\"{celsius} Celsius is equal to {fahrenheit} Fahrenheit\") # 'f' before string is formatted string and {} is used to embed variables directly into string"
   ]
  },
  {
   "cell_type": "code",
   "execution_count": null,
   "id": "cdb9f656-98a6-476c-acff-ef0e66ef7a93",
   "metadata": {},
   "outputs": [],
   "source": [
    "#TOPIC: String Based Questions"
   ]
  },
  {
   "cell_type": "code",
   "execution_count": null,
   "id": "45fe9bb4-6004-4207-a91e-b06963dd5f45",
   "metadata": {},
   "outputs": [],
   "source": [
    "#1.Write a Python program that takes a string as input and prints the length of the string."
   ]
  },
  {
   "cell_type": "code",
   "execution_count": 44,
   "id": "61f55fcc-fbdf-429d-8856-a3b6014e1a49",
   "metadata": {},
   "outputs": [],
   "source": [
    "s1= 'MONALISHA'\n",
    "length=len(s1)"
   ]
  },
  {
   "cell_type": "code",
   "execution_count": 48,
   "id": "2e8f21b7-4608-4e4d-83ae-9fefcd70fa8b",
   "metadata": {},
   "outputs": [
    {
     "name": "stdout",
     "output_type": "stream",
     "text": [
      "Length of S1: 9\n"
     ]
    }
   ],
   "source": [
    "print(f\"Length of S1: {length}\")"
   ]
  },
  {
   "cell_type": "code",
   "execution_count": null,
   "id": "1a6723f6-e9d4-4f8f-b8df-25f12f950f4d",
   "metadata": {},
   "outputs": [],
   "source": [
    "#2.Create a program that takes a sentence from the user and counts the number of vowels (a, e, i, o, u) in the string."
   ]
  },
  {
   "cell_type": "code",
   "execution_count": 50,
   "id": "e4d63cbb-18dd-49d8-8885-4cb8cbf1201a",
   "metadata": {},
   "outputs": [
    {
     "name": "stdin",
     "output_type": "stream",
     "text": [
      "Enter a sentence:  The cat ate its yummy food 'FISH'\n"
     ]
    },
    {
     "name": "stdout",
     "output_type": "stream",
     "text": [
      "Number of vowels are:\n",
      "9\n"
     ]
    }
   ],
   "source": [
    "s2= input(\"Enter a sentence: \")\n",
    "vowels=0\n",
    "for i in s2:\n",
    "    if(i == 'a' or i == 'e' or i == 'i' or i == 'o' or i == 'u' or i == 'A' or i == 'E' or i == 'I' or i == 'O' or i == 'U'):\n",
    "        vowels = vowels+1\n",
    "print(\"Number of vowels are:\")\n",
    "print(vowels)"
   ]
  },
  {
   "cell_type": "code",
   "execution_count": null,
   "id": "520ba53a-1803-40c6-80d4-c20841826f03",
   "metadata": {},
   "outputs": [],
   "source": [
    "#3.Given a string, reverse the order of characters using string slicing and print the reversed string."
   ]
  },
  {
   "cell_type": "code",
   "execution_count": 59,
   "id": "79293615-f6ff-4454-944a-5ec4325c5d84",
   "metadata": {},
   "outputs": [
    {
     "name": "stdin",
     "output_type": "stream",
     "text": [
      "Given a string: APPLE\n"
     ]
    },
    {
     "name": "stdout",
     "output_type": "stream",
     "text": [
      "ELPPA\n"
     ]
    }
   ],
   "source": [
    "s3 = input(\"Given a string:\")\n",
    "print(s3[::-1])"
   ]
  },
  {
   "cell_type": "code",
   "execution_count": null,
   "id": "eb538786-9ac2-47e2-96ad-850da2164868",
   "metadata": {},
   "outputs": [],
   "source": [
    "#4. Write a program that takes a string as input and checks if it is a palindrome (reads the same forwards and backwards)."
   ]
  },
  {
   "cell_type": "code",
   "execution_count": 63,
   "id": "bd723157-cfc0-4ada-b48d-21cc1a137889",
   "metadata": {},
   "outputs": [
    {
     "name": "stdin",
     "output_type": "stream",
     "text": [
      "Enter a string: malayalam\n"
     ]
    },
    {
     "name": "stdout",
     "output_type": "stream",
     "text": [
      "yes\n"
     ]
    }
   ],
   "source": [
    "def ispalindrome(s4):\n",
    "    return s4 == s4[::-1]\n",
    "s4 = input(\"Enter a string:\")\n",
    "ans = ispalindrome(s4)\n",
    "if ans:\n",
    "    print('yes')\n",
    "else:\n",
    "    print('no')\n",
    "    "
   ]
  },
  {
   "cell_type": "code",
   "execution_count": 66,
   "id": "eb159125-a723-4a03-acbb-11ec655514a4",
   "metadata": {},
   "outputs": [
    {
     "name": "stdin",
     "output_type": "stream",
     "text": [
      "Enter a string: america\n"
     ]
    },
    {
     "name": "stdout",
     "output_type": "stream",
     "text": [
      "no\n"
     ]
    }
   ],
   "source": [
    "def ispalindrome(s5):\n",
    "    return s5 == s5[::-1]\n",
    "s5 = input(\"Enter a string:\")\n",
    "ans = ispalindrome(s5)\n",
    "if ans:\n",
    "    print('yes')\n",
    "else:\n",
    "    print('no')"
   ]
  },
  {
   "cell_type": "code",
   "execution_count": 88,
   "id": "4d751f80-7d0a-4492-a011-6c4e52b95daf",
   "metadata": {},
   "outputs": [
    {
     "name": "stdin",
     "output_type": "stream",
     "text": [
      "Enter a string: My Name is Monalisha\n"
     ]
    },
    {
     "data": {
      "text/plain": [
       "'MyNameisMonalisha'"
      ]
     },
     "execution_count": 88,
     "metadata": {},
     "output_type": "execute_result"
    }
   ],
   "source": [
    "#5.Create a program that takes a string as input and removes all the spaces from it. Print the modified string without spaces.\n",
    "\n",
    "s6= input(\"Enter a string:\")\n",
    "s= s6.replace(' ','')\n",
    "s"
   ]
  },
  {
   "cell_type": "code",
   "execution_count": null,
   "id": "bd142c99-c3a7-4a3d-b490-33451f9cbb02",
   "metadata": {},
   "outputs": [],
   "source": []
  }
 ],
 "metadata": {
  "kernelspec": {
   "display_name": "Python 3 (ipykernel)",
   "language": "python",
   "name": "python3"
  },
  "language_info": {
   "codemirror_mode": {
    "name": "ipython",
    "version": 3
   },
   "file_extension": ".py",
   "mimetype": "text/x-python",
   "name": "python",
   "nbconvert_exporter": "python",
   "pygments_lexer": "ipython3",
   "version": "3.10.8"
  }
 },
 "nbformat": 4,
 "nbformat_minor": 5
}
